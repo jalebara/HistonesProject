{
 "cells": [
  {
   "cell_type": "code",
   "execution_count": null,
   "metadata": {},
   "outputs": [
    {
     "name": "stdout",
     "output_type": "stream",
     "text": [
      "   Unnamed: 0                                            feature  \\\n",
      "0           0  Drain Current (nA)__energy_ratio_by_chunks__nu...   \n",
      "1           1  Drain Current (nA)__agg_linear_trend__attr_\"sl...   \n",
      "2           2  Drain Current (nA)__agg_autocorrelation__f_agg...   \n",
      "3           3  Drain Current (nA)__agg_linear_trend__attr_\"sl...   \n",
      "4           4  Drain Current (nA)__cwt_coefficients__coeff_0_...   \n",
      "5           5  Drain Current (nA)__agg_autocorrelation__f_agg...   \n",
      "6           6  Drain Current (nA)__fft_coefficient__attr_\"rea...   \n",
      "7           7                                           0_LPCC_0   \n",
      "8           8  Drain Current (nA)__cwt_coefficients__coeff_1_...   \n",
      "9           9  Drain Current (nA)__cwt_coefficients__coeff_6_...   \n",
      "\n",
      "   feature_importance  \n",
      "0            0.096501  \n",
      "1            0.080963  \n",
      "2            0.072497  \n",
      "3            0.059129  \n",
      "4            0.055845  \n",
      "5            0.049813  \n",
      "6            0.041665  \n",
      "7            0.040149  \n",
      "8            0.035664  \n",
      "9            0.033109  \n"
     ]
    }
   ],
   "source": [
    "import pandas as pd\n",
    "import os, sys\n",
    "from egfet.load_data import load_egfet_dataset\n",
    "# Load the feature importances CSV file\n",
    "feature_importances_df = pd.read_csv('/home/jalex/Projects/aros/histones/Histones/paper_results_6/2KPEG_Hapt_Train_Mag_Control/run_0/cv_results/top_features.csv')\n",
    "# Sort the features by importance score in descending order\n",
    "sorted_features = feature_importances_df.sort_values(by='count', ascending=False)\n",
    "# Get the top features by importance score\n",
    "top_features = sorted_features.head(10)  # Change the number 10 to the desired number of top features\n",
    "\n",
    "# Print the top features\n",
    "print(top_features)\n",
    "features_df = pd.read_csv('~/Data/aros/Histones/PavlidisGroup/EGFET Processed Data/downsample_1_magnitude_controlled_exclude_concentrations_0nM_features3.csv')\n",
    "data = features_df.drop(columns=[\"Unnamed: 0\"])\n",
    "# first 4 columns are Experiment, Concentration, Trial, Cycle -- rename them\n",
    "data.columns = [\"Experiment\", \"Concentration\", \"Trial\", \"Cycle\"] + list(\n",
    "    data.columns[4:]\n",
    ")\n",
    "data = data.set_index([\"Experiment\", \"Concentration\", \"Trial\", \"Cycle\"])"
   ]
  },
  {
   "cell_type": "code",
   "execution_count": 6,
   "metadata": {},
   "outputs": [],
   "source": [
    "feature_name_map = {\n",
    "    \"Drain Current (nA)__change_quantiles__f_agg_\"\"var\"\"__isabs_False__qh_1.0__ql_0.6_grad\": r\"$s$ Binned Quantile Change\",\n",
    "    \"0_FFT mean coefficient_27\": \"FFT Mean Coefficient 27\",\n",
    "    \"0_Absolute energy_grad\": r\"Absolute Energy in $s'$\",\n",
    "    \"Drain Current (nA)__agg_linear_trend__attr_\"\"slope\"\"__chunk_len_50__f_agg_\"\"var\"\"_grad\" : r\"$I_{DS}$ Linear Trend\",\n",
    "    'Drain Current (nA)__change_quantiles__f_agg_\"var\"__isabs_False__qh_1.0__ql_0.6_grad': r\"$s'$ Binned Variance Quantile Change\",\n",
    "    'Drain Current (nA)__linear_trend__attr_\"stderr\"' : r\"$s$ Linear Trend Std. Error\",\n",
    "    'Drain Current (nA)__energy_ratio_by_chunks__num_segments_10__segment_focus_1' : r\"$s$ Energy Ratio\",\n",
    "    'Drain Current (nA)__agg_autocorrelation__f_agg_\"median\"__maxlag_40_grad': r\"$s'$ Autocorrelation\",\n",
    "}"
   ]
  },
  {
   "cell_type": "code",
   "execution_count": 9,
   "metadata": {},
   "outputs": [
    {
     "name": "stdout",
     "output_type": "stream",
     "text": [
      "['Drain Current (nA)__energy_ratio_by_chunks__num_segments_10__segment_focus_0', 'Drain Current (nA)__agg_linear_trend__attr_\"slope\"__chunk_len_50__f_agg_\"var\"_grad', 'Drain Current (nA)__agg_autocorrelation__f_agg_\"median\"__maxlag_40']\n",
      "['Drain Current (nA)__energy_ratio_by_chunks__num_segments_10__segment_focus_0', 'Drain Current (nA)__agg_linear_trend__attr_\"slope\"__chunk_len_50__f_agg_\"var\"_grad', 'Drain Current (nA)__agg_autocorrelation__f_agg_\"median\"__maxlag_40']\n",
      "                                              Drain Current (nA)__energy_ratio_by_chunks__num_segments_10__segment_focus_0  \\\n",
      "Experiment Concentration Trial     Cycle                                                                                     \n",
      " 0.747945   0.838852      0.721100  0.725885                                           0.662077                              \n",
      " 0.029798   1.188880      0.013855  0.018363                                          11.983254                              \n",
      "-0.269193  -0.243369     -0.267812 -0.269004                                          -0.011297                              \n",
      " 6.907807   26.263740     4.590947  5.769170                                         140.275546                              \n",
      " 0.838746   0.876408      0.802088  0.812674                                           0.607640                              \n",
      "\n",
      "                                              Drain Current (nA)__agg_linear_trend__attr_\"slope\"__chunk_len_50__f_agg_\"var\"_grad  \\\n",
      "Experiment Concentration Trial     Cycle                                                                                           \n",
      " 0.747945   0.838852      0.721100  0.725885                                           0.270061                                    \n",
      " 0.029798   1.188880      0.013855  0.018363                                          -0.033706                                    \n",
      "-0.269193  -0.243369     -0.267812 -0.269004                                          -0.001260                                    \n",
      " 6.907807   26.263740     4.590947  5.769170                                          -8.268392                                    \n",
      " 0.838746   0.876408      0.802088  0.812674                                           0.178352                                    \n",
      "\n",
      "                                              Drain Current (nA)__agg_autocorrelation__f_agg_\"median\"__maxlag_40  \n",
      "Experiment Concentration Trial     Cycle                                                                          \n",
      " 0.747945   0.838852      0.721100  0.725885                                          -0.548095                   \n",
      " 0.029798   1.188880      0.013855  0.018363                                           0.470354                   \n",
      "-0.269193  -0.243369     -0.267812 -0.269004                                           1.917372                   \n",
      " 6.907807   26.263740     4.590947  5.769170                                           5.215624                   \n",
      " 0.838746   0.876408      0.802088  0.812674                                          -0.557020                   \n"
     ]
    },
    {
     "ename": "ValueError",
     "evalue": "Length of values (1021) does not match length of index (7042)",
     "output_type": "error",
     "traceback": [
      "\u001b[0;31m---------------------------------------------------------------------------\u001b[0m",
      "\u001b[0;31mValueError\u001b[0m                                Traceback (most recent call last)",
      "Cell \u001b[0;32mIn[9], line 42\u001b[0m\n\u001b[1;32m     23\u001b[0m \u001b[38;5;28;01mif\u001b[39;00m \u001b[38;5;124m'\u001b[39m\u001b[38;5;124mlabels\u001b[39m\u001b[38;5;124m'\u001b[39m \u001b[38;5;129;01mnot\u001b[39;00m \u001b[38;5;129;01min\u001b[39;00m \u001b[38;5;28mlocals\u001b[39m():\n\u001b[1;32m     24\u001b[0m     indices, exclude, labels, groups \u001b[38;5;241m=\u001b[39m get_metadata_labels_groups(\n\u001b[1;32m     25\u001b[0m             [\n\u001b[1;32m     26\u001b[0m                 \u001b[38;5;124m\"\u001b[39m\u001b[38;5;124mExperiment\u001b[39m\u001b[38;5;124m\"\u001b[39m,\n\u001b[0;32m   (...)\u001b[0m\n\u001b[1;32m     39\u001b[0m             },\n\u001b[1;32m     40\u001b[0m         )\n\u001b[0;32m---> 42\u001b[0m \u001b[43mtop_features\u001b[49m\u001b[43m[\u001b[49m\u001b[38;5;124;43m\"\u001b[39;49m\u001b[38;5;124;43mlabels\u001b[39;49m\u001b[38;5;124;43m\"\u001b[39;49m\u001b[43m]\u001b[49m \u001b[38;5;241m=\u001b[39m labels\n\u001b[1;32m     43\u001b[0m \u001b[38;5;66;03m# change labels to strings 0 is Other, 1 is H4\u001b[39;00m\n\u001b[1;32m     44\u001b[0m top_features[\u001b[38;5;124m\"\u001b[39m\u001b[38;5;124mlabels\u001b[39m\u001b[38;5;124m\"\u001b[39m] \u001b[38;5;241m=\u001b[39m top_features[\u001b[38;5;124m\"\u001b[39m\u001b[38;5;124mlabels\u001b[39m\u001b[38;5;124m\"\u001b[39m]\u001b[38;5;241m.\u001b[39mastype(\u001b[38;5;28mstr\u001b[39m)\n",
      "File \u001b[0;32m~/.pyenv/versions/3.11.9/envs/histones_analysis/lib/python3.11/site-packages/pandas/core/frame.py:4311\u001b[0m, in \u001b[0;36mDataFrame.__setitem__\u001b[0;34m(self, key, value)\u001b[0m\n\u001b[1;32m   4308\u001b[0m     \u001b[38;5;28mself\u001b[39m\u001b[38;5;241m.\u001b[39m_setitem_array([key], value)\n\u001b[1;32m   4309\u001b[0m \u001b[38;5;28;01melse\u001b[39;00m:\n\u001b[1;32m   4310\u001b[0m     \u001b[38;5;66;03m# set column\u001b[39;00m\n\u001b[0;32m-> 4311\u001b[0m     \u001b[38;5;28;43mself\u001b[39;49m\u001b[38;5;241;43m.\u001b[39;49m\u001b[43m_set_item\u001b[49m\u001b[43m(\u001b[49m\u001b[43mkey\u001b[49m\u001b[43m,\u001b[49m\u001b[43m \u001b[49m\u001b[43mvalue\u001b[49m\u001b[43m)\u001b[49m\n",
      "File \u001b[0;32m~/.pyenv/versions/3.11.9/envs/histones_analysis/lib/python3.11/site-packages/pandas/core/frame.py:4524\u001b[0m, in \u001b[0;36mDataFrame._set_item\u001b[0;34m(self, key, value)\u001b[0m\n\u001b[1;32m   4514\u001b[0m \u001b[38;5;28;01mdef\u001b[39;00m \u001b[38;5;21m_set_item\u001b[39m(\u001b[38;5;28mself\u001b[39m, key, value) \u001b[38;5;241m-\u001b[39m\u001b[38;5;241m>\u001b[39m \u001b[38;5;28;01mNone\u001b[39;00m:\n\u001b[1;32m   4515\u001b[0m \u001b[38;5;250m    \u001b[39m\u001b[38;5;124;03m\"\"\"\u001b[39;00m\n\u001b[1;32m   4516\u001b[0m \u001b[38;5;124;03m    Add series to DataFrame in specified column.\u001b[39;00m\n\u001b[1;32m   4517\u001b[0m \n\u001b[0;32m   (...)\u001b[0m\n\u001b[1;32m   4522\u001b[0m \u001b[38;5;124;03m    ensure homogeneity.\u001b[39;00m\n\u001b[1;32m   4523\u001b[0m \u001b[38;5;124;03m    \"\"\"\u001b[39;00m\n\u001b[0;32m-> 4524\u001b[0m     value, refs \u001b[38;5;241m=\u001b[39m \u001b[38;5;28;43mself\u001b[39;49m\u001b[38;5;241;43m.\u001b[39;49m\u001b[43m_sanitize_column\u001b[49m\u001b[43m(\u001b[49m\u001b[43mvalue\u001b[49m\u001b[43m)\u001b[49m\n\u001b[1;32m   4526\u001b[0m     \u001b[38;5;28;01mif\u001b[39;00m (\n\u001b[1;32m   4527\u001b[0m         key \u001b[38;5;129;01min\u001b[39;00m \u001b[38;5;28mself\u001b[39m\u001b[38;5;241m.\u001b[39mcolumns\n\u001b[1;32m   4528\u001b[0m         \u001b[38;5;129;01mand\u001b[39;00m value\u001b[38;5;241m.\u001b[39mndim \u001b[38;5;241m==\u001b[39m \u001b[38;5;241m1\u001b[39m\n\u001b[1;32m   4529\u001b[0m         \u001b[38;5;129;01mand\u001b[39;00m \u001b[38;5;129;01mnot\u001b[39;00m \u001b[38;5;28misinstance\u001b[39m(value\u001b[38;5;241m.\u001b[39mdtype, ExtensionDtype)\n\u001b[1;32m   4530\u001b[0m     ):\n\u001b[1;32m   4531\u001b[0m         \u001b[38;5;66;03m# broadcast across multiple columns if necessary\u001b[39;00m\n\u001b[1;32m   4532\u001b[0m         \u001b[38;5;28;01mif\u001b[39;00m \u001b[38;5;129;01mnot\u001b[39;00m \u001b[38;5;28mself\u001b[39m\u001b[38;5;241m.\u001b[39mcolumns\u001b[38;5;241m.\u001b[39mis_unique \u001b[38;5;129;01mor\u001b[39;00m \u001b[38;5;28misinstance\u001b[39m(\u001b[38;5;28mself\u001b[39m\u001b[38;5;241m.\u001b[39mcolumns, MultiIndex):\n",
      "File \u001b[0;32m~/.pyenv/versions/3.11.9/envs/histones_analysis/lib/python3.11/site-packages/pandas/core/frame.py:5266\u001b[0m, in \u001b[0;36mDataFrame._sanitize_column\u001b[0;34m(self, value)\u001b[0m\n\u001b[1;32m   5263\u001b[0m     \u001b[38;5;28;01mreturn\u001b[39;00m _reindex_for_setitem(value, \u001b[38;5;28mself\u001b[39m\u001b[38;5;241m.\u001b[39mindex)\n\u001b[1;32m   5265\u001b[0m \u001b[38;5;28;01mif\u001b[39;00m is_list_like(value):\n\u001b[0;32m-> 5266\u001b[0m     \u001b[43mcom\u001b[49m\u001b[38;5;241;43m.\u001b[39;49m\u001b[43mrequire_length_match\u001b[49m\u001b[43m(\u001b[49m\u001b[43mvalue\u001b[49m\u001b[43m,\u001b[49m\u001b[43m \u001b[49m\u001b[38;5;28;43mself\u001b[39;49m\u001b[38;5;241;43m.\u001b[39;49m\u001b[43mindex\u001b[49m\u001b[43m)\u001b[49m\n\u001b[1;32m   5267\u001b[0m arr \u001b[38;5;241m=\u001b[39m sanitize_array(value, \u001b[38;5;28mself\u001b[39m\u001b[38;5;241m.\u001b[39mindex, copy\u001b[38;5;241m=\u001b[39m\u001b[38;5;28;01mTrue\u001b[39;00m, allow_2d\u001b[38;5;241m=\u001b[39m\u001b[38;5;28;01mTrue\u001b[39;00m)\n\u001b[1;32m   5268\u001b[0m \u001b[38;5;28;01mif\u001b[39;00m (\n\u001b[1;32m   5269\u001b[0m     \u001b[38;5;28misinstance\u001b[39m(value, Index)\n\u001b[1;32m   5270\u001b[0m     \u001b[38;5;129;01mand\u001b[39;00m value\u001b[38;5;241m.\u001b[39mdtype \u001b[38;5;241m==\u001b[39m \u001b[38;5;124m\"\u001b[39m\u001b[38;5;124mobject\u001b[39m\u001b[38;5;124m\"\u001b[39m\n\u001b[0;32m   (...)\u001b[0m\n\u001b[1;32m   5273\u001b[0m     \u001b[38;5;66;03m# TODO: Remove kludge in sanitize_array for string mode when enforcing\u001b[39;00m\n\u001b[1;32m   5274\u001b[0m     \u001b[38;5;66;03m# this deprecation\u001b[39;00m\n",
      "File \u001b[0;32m~/.pyenv/versions/3.11.9/envs/histones_analysis/lib/python3.11/site-packages/pandas/core/common.py:573\u001b[0m, in \u001b[0;36mrequire_length_match\u001b[0;34m(data, index)\u001b[0m\n\u001b[1;32m    569\u001b[0m \u001b[38;5;250m\u001b[39m\u001b[38;5;124;03m\"\"\"\u001b[39;00m\n\u001b[1;32m    570\u001b[0m \u001b[38;5;124;03mCheck the length of data matches the length of the index.\u001b[39;00m\n\u001b[1;32m    571\u001b[0m \u001b[38;5;124;03m\"\"\"\u001b[39;00m\n\u001b[1;32m    572\u001b[0m \u001b[38;5;28;01mif\u001b[39;00m \u001b[38;5;28mlen\u001b[39m(data) \u001b[38;5;241m!=\u001b[39m \u001b[38;5;28mlen\u001b[39m(index):\n\u001b[0;32m--> 573\u001b[0m     \u001b[38;5;28;01mraise\u001b[39;00m \u001b[38;5;167;01mValueError\u001b[39;00m(\n\u001b[1;32m    574\u001b[0m         \u001b[38;5;124m\"\u001b[39m\u001b[38;5;124mLength of values \u001b[39m\u001b[38;5;124m\"\u001b[39m\n\u001b[1;32m    575\u001b[0m         \u001b[38;5;124mf\u001b[39m\u001b[38;5;124m\"\u001b[39m\u001b[38;5;124m(\u001b[39m\u001b[38;5;132;01m{\u001b[39;00m\u001b[38;5;28mlen\u001b[39m(data)\u001b[38;5;132;01m}\u001b[39;00m\u001b[38;5;124m) \u001b[39m\u001b[38;5;124m\"\u001b[39m\n\u001b[1;32m    576\u001b[0m         \u001b[38;5;124m\"\u001b[39m\u001b[38;5;124mdoes not match length of index \u001b[39m\u001b[38;5;124m\"\u001b[39m\n\u001b[1;32m    577\u001b[0m         \u001b[38;5;124mf\u001b[39m\u001b[38;5;124m\"\u001b[39m\u001b[38;5;124m(\u001b[39m\u001b[38;5;132;01m{\u001b[39;00m\u001b[38;5;28mlen\u001b[39m(index)\u001b[38;5;132;01m}\u001b[39;00m\u001b[38;5;124m)\u001b[39m\u001b[38;5;124m\"\u001b[39m\n\u001b[1;32m    578\u001b[0m     )\n",
      "\u001b[0;31mValueError\u001b[0m: Length of values (1021) does not match length of index (7042)"
     ]
    }
   ],
   "source": [
    "import seaborn as sns\n",
    "import plotly.express as px\n",
    "import plotly.graph_objects as go\n",
    "import matplotlib.pyplot as plt\n",
    "from egfet.load_data import get_metadata_labels_groups, get_available_indices\n",
    "\n",
    "sns.set(rc={'text.usetex' : True})\n",
    "\n",
    "# Select the top 3 features by name in feature importance df\n",
    "top_3_features = feature_importances_df.head(3)['feature'].tolist()  # Assuming the 'feature' column contains the feature names\n",
    "print(top_3_features)\n",
    "top_features = data[top_3_features]\n",
    "\n",
    "print(top_3_features)\n",
    "print(top_features.head())\n",
    "# Rename the axis labels\n",
    "\n",
    "custom_labels = [feature_name_map.get(x, x) for x in top_features.columns]\n",
    "top_features.columns = custom_labels\n",
    "\n",
    "\n",
    "# get labels\n",
    "if 'labels' not in locals():\n",
    "    indices, exclude, labels, groups = get_metadata_labels_groups(\n",
    "            [\n",
    "                \"Experiment\",\n",
    "                \"Concentration\",\n",
    "                \"Trial\",\n",
    "            ],\n",
    "            [],\n",
    "            top_features.index.unique(),\n",
    "            verbose=1,\n",
    "            label_map_override = {\n",
    "                \"20221214_HP_HBS_CTH\": 0,  # 0 corresponds to CTH\n",
    "                \"20230518_CTH_2kPEG\": 0,\n",
    "                \"20240108_CTH_Hapt_2kPEG_24hr\": 0,\n",
    "                \"20230929_1_BSA_Hapt_2kPEG\": 2,  # 2 corresponds to BSA\n",
    "                \"20230929_2_BSA_Hapt_2kPEG\": 2,\n",
    "            },\n",
    "        )\n",
    "\n",
    "top_features[\"labels\"] = labels\n",
    "# change labels to strings 0 is Other, 1 is H4\n",
    "top_features[\"labels\"] = top_features[\"labels\"].astype(str)\n",
    "# change labels to strings 0 is Other, 1 is H4\n",
    "top_features[\"labels\"] = top_features[\"labels\"].replace(\"0\", \"CTH\")\n",
    "top_features[\"labels\"] = top_features[\"labels\"].replace(\"1\", \"H4\")\n",
    "top_features[\"labels\"] = top_features[\"labels\"].replace(\"2\", \"BSA\")\n",
    "# Create the pairplot\n",
    "plt.figure(figsize=(15, 10))\n",
    "sns.pairplot(data=top_features, hue=\"labels\", kind=\"kde\")\n",
    "\n",
    "# Show the plot\n",
    "plt.show()\n"
   ]
  }
 ],
 "metadata": {
  "kernelspec": {
   "display_name": "histones_analysis",
   "language": "python",
   "name": "python3"
  },
  "language_info": {
   "codemirror_mode": {
    "name": "ipython",
    "version": 3
   },
   "file_extension": ".py",
   "mimetype": "text/x-python",
   "name": "python",
   "nbconvert_exporter": "python",
   "pygments_lexer": "ipython3",
   "version": "3.11.9"
  }
 },
 "nbformat": 4,
 "nbformat_minor": 2
}
